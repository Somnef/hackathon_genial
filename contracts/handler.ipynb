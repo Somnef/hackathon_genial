{
 "cells": [
  {
   "cell_type": "code",
   "execution_count": 2,
   "metadata": {},
   "outputs": [],
   "source": [
    "from eth_utils import address\n",
    "from web3 import Web3\n",
    "import os\n",
    "from solcx import compile_standard, install_solc\n",
    "import json"
   ]
  },
  {
   "cell_type": "code",
   "execution_count": 3,
   "metadata": {},
   "outputs": [
    {
     "data": {
      "text/plain": [
       "<Version('0.8.0')>"
      ]
     },
     "execution_count": 3,
     "metadata": {},
     "output_type": "execute_result"
    }
   ],
   "source": [
    "version = '0.8.0'\n",
    "install_solc(version)"
   ]
  },
  {
   "cell_type": "code",
   "execution_count": 4,
   "metadata": {},
   "outputs": [],
   "source": [
    "smart_contract = \"EnergyTrading.sol\"\n",
    "\n",
    "with open(smart_contract, \"r\") as file:\n",
    "    contract_file = file.read()"
   ]
  },
  {
   "cell_type": "markdown",
   "metadata": {},
   "source": [
    "# Step 1: Se conneceter au réseau (Protocole RPC)\n",
    "# Step 2: Ajouter son wallet\n",
    "# Step 3: Déclarer l'adresse et l'ABI\n",
    "# Step 4:\n",
    "## Step 4.1: Get data\n",
    "## Step 4.2:\n",
    "### Step 4.2.1: Créer une transaction\n",
    "### Step 4.2.2: Signer la transaction\n",
    "### Step 4.2.3: Upload la transaction au réseau"
   ]
  },
  {
   "cell_type": "code",
   "execution_count": 5,
   "metadata": {},
   "outputs": [],
   "source": [
    "compiled_sol = compile_standard(\n",
    "    {\n",
    "        \"language\": \"Solidity\",\n",
    "        \"sources\": {\"EnergyTrading.sol\": {\"content\": contract_file}},\n",
    "        \"settings\": {\n",
    "            \"outputSelection\": {\n",
    "                \"*\": {\n",
    "                    \"*\": [\"abi\", \"metadata\", \"evm.bytecode\", \"evm.bytecode.sourceMap\"]\n",
    "                }\n",
    "            }\n",
    "        },\n",
    "    },\n",
    "    solc_version=version,  # type: ignore\n",
    ")\n",
    "\n",
    "with open(\"compiled_code.json\", \"w\") as file:\n",
    "    json.dump(compiled_sol, file)"
   ]
  },
  {
   "cell_type": "code",
   "execution_count": 6,
   "metadata": {},
   "outputs": [],
   "source": [
    "# get bytecode\n",
    "bytecode = compiled_sol[\"contracts\"][smart_contract][\"EnergyTrading\"][\"evm\"][\"bytecode\"][\"object\"]\n",
    "\n",
    "# get abi\n",
    "abi = json.loads(compiled_sol[\"contracts\"][smart_contract][\"EnergyTrading\"][\"metadata\"])[\"output\"][\"abi\"]"
   ]
  },
  {
   "cell_type": "code",
   "execution_count": null,
   "metadata": {},
   "outputs": [],
   "source": [
    "# set up connection\n",
    "w3 = Web3(Web3.HTTPProvider(\"HTTP://127.0.0.1:7545\"))\n",
    "chain_id = 1337\n",
    "owner_address = \"0xD337bc9e419282Cc22E52CeccF8375a651e59711\"\n",
    "private_key = \"0xb5e3c6f9a05210823672e87b921280b46a8a1fbd5e0b988297dac615adb53b10\""
   ]
  },
  {
   "cell_type": "code",
   "execution_count": null,
   "metadata": {},
   "outputs": [],
   "source": [
    "# initialize contract\n",
    "Tambola = w3.eth.contract(abi=abi, bytecode=bytecode)\n",
    "nonce = w3.eth.getTransactionCount(owner_address)"
   ]
  },
  {
   "cell_type": "code",
   "execution_count": null,
   "metadata": {},
   "outputs": [],
   "source": [
    "# set up transaction from constructor which executes when firstly\n",
    "transaction = Tambola.constructor().buildTransaction(\n",
    "    {\n",
    "        \"gasPrice\": w3.eth.gas_price,\n",
    "        \"chainId\": chain_id, \n",
    "        \"from\": owner_address, \n",
    "        \"nonce\": nonce\n",
    "    }\n",
    ")\n",
    "\n",
    "signed_tx = w3.eth.account.signTransaction(transaction, private_key=private_key)\n",
    "tx_hash = w3.eth.send_raw_transaction(signed_tx.rawTransaction)\n",
    "tx_receipt = w3.eth.wait_for_transaction_receipt(tx_hash)"
   ]
  },
  {
   "cell_type": "code",
   "execution_count": null,
   "metadata": {},
   "outputs": [],
   "source": [
    "tambola_sol = w3.eth.contract(abi=abi, address=tx_receipt.contractAddress)\n",
    "\n",
    "payer_address = \"0xf01Ed89Ae2c6B0224bA327a057799b77E946E7c3\"\n",
    "private_key = \"0xc6c61ebea223b90af09dff583084ee5d0adc9bfd234c281b2b5c8d66fd667258\"\n",
    "nonce = w3.eth.getTransactionCount(payer_address)\n",
    "value = 4\n",
    "\n",
    "call_fun = tambola_sol.functions.pay().buildTransaction(\n",
    "    {\n",
    "        \"value\": int(value * 1e18),\n",
    "        \"gasPrice\": w3.eth.gas_price,\n",
    "        \"chainId\": chain_id, \n",
    "        \"from\": payer_address,\n",
    "        \"nonce\": nonce\n",
    "    }\n",
    ")\n",
    "\n",
    "sign_call_fun = w3.eth.account.signTransaction(call_fun, private_key=private_key)\n",
    "tx_call_fun_hash = w3.eth.send_raw_transaction(sign_call_fun.rawTransaction)\n",
    "tx_call_fun_receipt = w3.eth.wait_for_transaction_receipt(tx_call_fun_hash)"
   ]
  },
  {
   "cell_type": "code",
   "execution_count": null,
   "metadata": {},
   "outputs": [],
   "source": [
    "w3.eth.get_balance(tx_receipt.contractAddress) / 1e18"
   ]
  }
 ],
 "metadata": {
  "kernelspec": {
   "display_name": "bc_env",
   "language": "python",
   "name": "python3"
  },
  "language_info": {
   "codemirror_mode": {
    "name": "ipython",
    "version": 3
   },
   "file_extension": ".py",
   "mimetype": "text/x-python",
   "name": "python",
   "nbconvert_exporter": "python",
   "pygments_lexer": "ipython3",
   "version": "3.13.0"
  },
  "orig_nbformat": 4
 },
 "nbformat": 4,
 "nbformat_minor": 2
}
