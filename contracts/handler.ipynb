{
 "cells": [
  {
   "cell_type": "code",
   "execution_count": 39,
   "metadata": {},
   "outputs": [],
   "source": [
    "from eth_utils import address\n",
    "from web3 import Web3\n",
    "import os\n",
    "from solcx import compile_standard, install_solc\n",
    "import json"
   ]
  },
  {
   "cell_type": "code",
   "execution_count": 40,
   "metadata": {},
   "outputs": [
    {
     "data": {
      "text/plain": [
       "<Version('0.8.0')>"
      ]
     },
     "execution_count": 40,
     "metadata": {},
     "output_type": "execute_result"
    }
   ],
   "source": [
    "version = '0.8.0'\n",
    "install_solc(version)"
   ]
  },
  {
   "cell_type": "code",
   "execution_count": 86,
   "metadata": {},
   "outputs": [],
   "source": [
    "smart_contract = \"EnergyTrading.sol\"\n",
    "\n",
    "with open(smart_contract, \"r\") as file:\n",
    "    contract_file = file.read()\n",
    "\n",
    "compiled_sol = compile_standard(\n",
    "    {\n",
    "        \"language\": \"Solidity\",\n",
    "        \"sources\": {\"EnergyTrading.sol\": {\"content\": contract_file}},\n",
    "        \"settings\": {\n",
    "            \"outputSelection\": {\n",
    "                \"*\": {\n",
    "                    \"*\": [\"abi\", \"metadata\", \"evm.bytecode\", \"evm.bytecode.sourceMap\"]\n",
    "                }\n",
    "            }\n",
    "        },\n",
    "    },\n",
    "    solc_version=version,  # type: ignore\n",
    ")\n",
    "\n",
    "with open(\"compiled_code.json\", \"w\") as file:\n",
    "    json.dump(compiled_sol, file)"
   ]
  },
  {
   "cell_type": "code",
   "execution_count": 87,
   "metadata": {},
   "outputs": [],
   "source": [
    "# get bytecode\n",
    "bytecode = compiled_sol[\"contracts\"][smart_contract][\"EnergyTrading\"][\"evm\"][\"bytecode\"][\"object\"]\n",
    "\n",
    "# get abi\n",
    "abi = json.loads(compiled_sol[\"contracts\"][smart_contract][\"EnergyTrading\"][\"metadata\"])[\"output\"][\"abi\"]"
   ]
  },
  {
   "cell_type": "code",
   "execution_count": 88,
   "metadata": {},
   "outputs": [],
   "source": [
    "# set up connection\n",
    "w3 = Web3(Web3.HTTPProvider(\"HTTP://172.21.128.1:7545\"))\n",
    "chain_id = 1337\n",
    "owner_address = \"0x952b1253dF851D217501Fa66fa5f4a8cC9025Eac\"\n",
    "private_key = \"0c1aa4f476b3a2768675e3d1190ba26df71fd2e3044e01712db59538cdb82760\""
   ]
  },
  {
   "cell_type": "code",
   "execution_count": 89,
   "metadata": {},
   "outputs": [],
   "source": [
    "# initialize contract\n",
    "EnergyTrading = w3.eth.contract(abi=abi, bytecode=bytecode)\n",
    "nonce = w3.eth.get_transaction_count(owner_address)"
   ]
  },
  {
   "cell_type": "code",
   "execution_count": 90,
   "metadata": {},
   "outputs": [],
   "source": [
    "# set up transaction from constructor which executes when firstly\n",
    "transaction = EnergyTrading.constructor().build_transaction(\n",
    "    {\n",
    "        \"gasPrice\": w3.eth.gas_price,\n",
    "        \"chainId\": chain_id, \n",
    "        \"from\": owner_address, \n",
    "        \"nonce\": nonce\n",
    "    }\n",
    ")\n",
    "\n",
    "signed_tx = w3.eth.account.sign_transaction(transaction, private_key=private_key)\n",
    "tx_hash = w3.eth.send_raw_transaction(signed_tx.raw_transaction)\n",
    "tx_receipt = w3.eth.wait_for_transaction_receipt(tx_hash)"
   ]
  },
  {
   "cell_type": "code",
   "execution_count": 91,
   "metadata": {},
   "outputs": [],
   "source": [
    "with open(\"contract_abi.json\", \"w\") as file:\n",
    "    json.dump(abi, file)"
   ]
  },
  {
   "cell_type": "code",
   "execution_count": 92,
   "metadata": {},
   "outputs": [],
   "source": [
    "energy_trading_sol = w3.eth.contract(abi=abi, address=tx_receipt.contractAddress)\n",
    "\n",
    "payer_address = \"0xB28d5f7929AA1F5f6d5811C692d59255ABFdD530\"\n",
    "private_key = \"90c2213fbee613082e2340ed07de21e526d5b4a9b04dbc236780e799ee6bfa98\"\n",
    "nonce = w3.eth.get_transaction_count(payer_address)\n",
    "value = 4\n",
    "\n",
    "call_fun = energy_trading_sol.functions.registerUser().build_transaction(\n",
    "    {\n",
    "        \"gasPrice\": w3.eth.gas_price,\n",
    "        \"chainId\": chain_id, \n",
    "        \"from\": payer_address,\n",
    "        \"nonce\": nonce\n",
    "    }\n",
    ")\n",
    "\n",
    "sign_call_fun = w3.eth.account.sign_transaction(call_fun, private_key=private_key)\n",
    "tx_call_fun_hash = w3.eth.send_raw_transaction(sign_call_fun.raw_transaction)\n",
    "tx_call_fun_receipt = w3.eth.wait_for_transaction_receipt(tx_call_fun_hash)"
   ]
  },
  {
   "cell_type": "code",
   "execution_count": 101,
   "metadata": {},
   "outputs": [],
   "source": [
    "# dump contract address to file\n",
    "with open(\"../backend/utils/contract_address.json\", \"w\") as file:\n",
    "    json.dump({\"contractAddress\": tx_receipt.contractAddress}, file)\n",
    "\n",
    "# dump contract abi to file\n",
    "with open(\"../backend/utils/contract_abi.json\", \"w\") as file:\n",
    "    json.dump(abi, file)"
   ]
  },
  {
   "cell_type": "code",
   "execution_count": 95,
   "metadata": {},
   "outputs": [
    {
     "name": "stdout",
     "output_type": "stream",
     "text": [
      "AttributeDict({'transactionHash': HexBytes('0x786a97a34c4f4c47530fb20b44a207b666ead356a062c1c73d63588a117506ff'), 'transactionIndex': 0, 'blockHash': HexBytes('0xc518f527d30dfeb44bc23e24ea2105dabd7ec2f6b2e4874a020ec2d3afef606a'), 'blockNumber': 29, 'from': '0xB28d5f7929AA1F5f6d5811C692d59255ABFdD530', 'to': '0x7f249b0565c8103Cc5796D77d4D101c3dAA4cc72', 'gasUsed': 138892, 'cumulativeGasUsed': 138892, 'contractAddress': None, 'logs': [AttributeDict({'logIndex': 0, 'transactionIndex': 0, 'transactionHash': HexBytes('0x786a97a34c4f4c47530fb20b44a207b666ead356a062c1c73d63588a117506ff'), 'blockHash': HexBytes('0xc518f527d30dfeb44bc23e24ea2105dabd7ec2f6b2e4874a020ec2d3afef606a'), 'blockNumber': 29, 'address': '0x7f249b0565c8103Cc5796D77d4D101c3dAA4cc72', 'data': HexBytes('0x0000000000000000000000000000000000000000000000000000000000000003000000000000000000000000b28d5f7929aa1f5f6d5811c692d59255abfdd5300000000000000000000000000000000000000000000000000000000000003a98000000000000000000000000000000000000000000000000000000000000000f'), 'topics': [HexBytes('0xda3d99b33292474cce9fea011535f71efc401c7bb35e0f270dadfaea925a6ba6')], 'type': 'mined'})], 'status': 1, 'logsBloom': HexBytes('0x00000000000000000000000000000000000000000000000000000000000000000000000000000000000000000000000000000000000000000000000000000000000000000000000000000002000000000000000000000000000000000000000000000000000000000000000000000000000800000000000000000000000000000000000000000000000000000000000000000000000000000000000000020000000000000000000000000000000000000000000000000000000000000008000000000000000000000000000000000008000000000000000000000000000000000000000000000000000000000000000000000000000000000000020000000000')})\n"
     ]
    }
   ],
   "source": [
    "energy_trading_sol = w3.eth.contract(abi=abi, address=tx_receipt.contractAddress)\n",
    "\n",
    "payer_address = \"0xB28d5f7929AA1F5f6d5811C692d59255ABFdD530\"\n",
    "private_key = \"90c2213fbee613082e2340ed07de21e526d5b4a9b04dbc236780e799ee6bfa98\"\n",
    "nonce = w3.eth.get_transaction_count(payer_address)\n",
    "value = 4\n",
    "\n",
    "call_fun = energy_trading_sol.functions.offerEnergy(\n",
    "    15000, 15, 120\n",
    ").build_transaction(\n",
    "    {\n",
    "        \"gasPrice\": w3.eth.gas_price,\n",
    "        \"chainId\": chain_id, \n",
    "        \"from\": payer_address,\n",
    "        \"nonce\": nonce\n",
    "    }\n",
    ")\n",
    "\n",
    "sign_call_fun = w3.eth.account.sign_transaction(call_fun, private_key=private_key)\n",
    "tx_call_fun_hash = w3.eth.send_raw_transaction(sign_call_fun.raw_transaction)\n",
    "tx_call_fun_receipt = w3.eth.wait_for_transaction_receipt(tx_call_fun_hash)\n",
    "\n",
    "print(tx_call_fun_receipt)"
   ]
  },
  {
   "cell_type": "code",
   "execution_count": null,
   "metadata": {},
   "outputs": [
    {
     "data": {
      "text/plain": [
       "<Event EnergyOffered(address,uint256,uint256)>"
      ]
     },
     "execution_count": 75,
     "metadata": {},
     "output_type": "execute_result"
    }
   ],
   "source": [
    "energy_trading_sol.events.EnergyOffered().process_receipt(tx_call_fun_receipt)"
   ]
  },
  {
   "cell_type": "code",
   "execution_count": 96,
   "metadata": {},
   "outputs": [
    {
     "data": {
      "text/plain": [
       "[(0,\n",
       "  '0xB28d5f7929AA1F5f6d5811C692d59255ABFdD530',\n",
       "  20000,\n",
       "  50,\n",
       "  1732189794,\n",
       "  '0x0000000000000000000000000000000000000000',\n",
       "  0,\n",
       "  False),\n",
       " (1,\n",
       "  '0xB28d5f7929AA1F5f6d5811C692d59255ABFdD530',\n",
       "  10000,\n",
       "  10,\n",
       "  1732189799,\n",
       "  '0x0000000000000000000000000000000000000000',\n",
       "  0,\n",
       "  False),\n",
       " (2,\n",
       "  '0xB28d5f7929AA1F5f6d5811C692d59255ABFdD530',\n",
       "  15000,\n",
       "  15,\n",
       "  1732193407,\n",
       "  '0x0000000000000000000000000000000000000000',\n",
       "  0,\n",
       "  False)]"
      ]
     },
     "execution_count": 96,
     "metadata": {},
     "output_type": "execute_result"
    }
   ],
   "source": [
    "energy_trading_sol = w3.eth.contract(abi=abi, address=tx_receipt.contractAddress)\n",
    "\n",
    "payer_address = \"0xB28d5f7929AA1F5f6d5811C692d59255ABFdD530\"\n",
    "private_key = \"90c2213fbee613082e2340ed07de21e526d5b4a9b04dbc236780e799ee6bfa98\"\n",
    "nonce = w3.eth.get_transaction_count(payer_address)\n",
    "value = 4\n",
    "\n",
    "# Call the function and get the return value\n",
    "active_offers = energy_trading_sol.functions.getActiveOffers().call({\n",
    "    \"from\": payer_address\n",
    "})\n",
    "\n",
    "active_offers\n",
    "\n",
    "# call_fun = energy_trading_sol.functions.getActiveOffers().build_transaction(\n",
    "#     {\n",
    "#         \"gasPrice\": w3.eth.gas_price,\n",
    "#         \"chainId\": chain_id, \n",
    "#         \"from\": payer_address,\n",
    "#         \"nonce\": nonce\n",
    "#     }\n",
    "# )\n",
    "\n",
    "# sign_call_fun = w3.eth.account.sign_transaction(call_fun, private_key=private_key)\n",
    "# tx_call_fun_hash = w3.eth.send_raw_transaction(sign_call_fun.raw_transaction)\n",
    "# tx_call_fun_receipt = w3.eth.wait_for_transaction_receipt(tx_call_fun_hash)"
   ]
  },
  {
   "cell_type": "code",
   "execution_count": 77,
   "metadata": {},
   "outputs": [
    {
     "data": {
      "text/plain": [
       "[0, 1, 2]"
      ]
     },
     "execution_count": 77,
     "metadata": {},
     "output_type": "execute_result"
    }
   ],
   "source": [
    "active_offers"
   ]
  },
  {
   "cell_type": "code",
   "execution_count": 64,
   "metadata": {},
   "outputs": [
    {
     "data": {
      "text/plain": [
       "0.0"
      ]
     },
     "execution_count": 64,
     "metadata": {},
     "output_type": "execute_result"
    }
   ],
   "source": [
    "w3.eth.get_balance(tx_receipt.contractAddress) / 1e18"
   ]
  }
 ],
 "metadata": {
  "kernelspec": {
   "display_name": "bc_env",
   "language": "python",
   "name": "python3"
  },
  "language_info": {
   "codemirror_mode": {
    "name": "ipython",
    "version": 3
   },
   "file_extension": ".py",
   "mimetype": "text/x-python",
   "name": "python",
   "nbconvert_exporter": "python",
   "pygments_lexer": "ipython3",
   "version": "3.13.0"
  },
  "orig_nbformat": 4
 },
 "nbformat": 4,
 "nbformat_minor": 2
}
