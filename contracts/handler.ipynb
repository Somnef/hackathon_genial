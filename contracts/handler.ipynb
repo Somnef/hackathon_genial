{
 "cells": [
  {
   "cell_type": "code",
   "execution_count": 39,
   "metadata": {},
   "outputs": [],
   "source": [
    "from eth_utils import address\n",
    "from web3 import Web3\n",
    "import os\n",
    "from solcx import compile_standard, install_solc\n",
    "import json"
   ]
  },
  {
   "cell_type": "code",
   "execution_count": 40,
   "metadata": {},
   "outputs": [
    {
     "data": {
      "text/plain": [
       "<Version('0.8.0')>"
      ]
     },
     "execution_count": 40,
     "metadata": {},
     "output_type": "execute_result"
    }
   ],
   "source": [
    "version = '0.8.0'\n",
    "install_solc(version)"
   ]
  },
  {
   "cell_type": "code",
   "execution_count": 41,
   "metadata": {},
   "outputs": [],
   "source": [
    "smart_contract = \"EnergyTrading.sol\"\n",
    "\n",
    "with open(smart_contract, \"r\") as file:\n",
    "    contract_file = file.read()"
   ]
  },
  {
   "cell_type": "markdown",
   "metadata": {},
   "source": [
    "# Step 1: Se conneceter au réseau (Protocole RPC)\n",
    "# Step 2: Ajouter son wallet\n",
    "# Step 3: Déclarer l'adresse et l'ABI\n",
    "# Step 4:\n",
    "## Step 4.1: Get data\n",
    "## Step 4.2:\n",
    "### Step 4.2.1: Créer une transaction\n",
    "### Step 4.2.2: Signer la transaction\n",
    "### Step 4.2.3: Upload la transaction au réseau"
   ]
  },
  {
   "cell_type": "code",
   "execution_count": 42,
   "metadata": {},
   "outputs": [],
   "source": [
    "compiled_sol = compile_standard(\n",
    "    {\n",
    "        \"language\": \"Solidity\",\n",
    "        \"sources\": {\"EnergyTrading.sol\": {\"content\": contract_file}},\n",
    "        \"settings\": {\n",
    "            \"outputSelection\": {\n",
    "                \"*\": {\n",
    "                    \"*\": [\"abi\", \"metadata\", \"evm.bytecode\", \"evm.bytecode.sourceMap\"]\n",
    "                }\n",
    "            }\n",
    "        },\n",
    "    },\n",
    "    solc_version=version,  # type: ignore\n",
    ")\n",
    "\n",
    "with open(\"compiled_code.json\", \"w\") as file:\n",
    "    json.dump(compiled_sol, file)"
   ]
  },
  {
   "cell_type": "code",
   "execution_count": 43,
   "metadata": {},
   "outputs": [],
   "source": [
    "# get bytecode\n",
    "bytecode = compiled_sol[\"contracts\"][smart_contract][\"EnergyTrading\"][\"evm\"][\"bytecode\"][\"object\"]\n",
    "\n",
    "# get abi\n",
    "abi = json.loads(compiled_sol[\"contracts\"][smart_contract][\"EnergyTrading\"][\"metadata\"])[\"output\"][\"abi\"]"
   ]
  },
  {
   "cell_type": "code",
   "execution_count": 44,
   "metadata": {},
   "outputs": [],
   "source": [
    "# set up connection\n",
    "w3 = Web3(Web3.HTTPProvider(\"HTTP://172.21.128.1:7545\"))\n",
    "chain_id = 1337\n",
    "owner_address = \"0x952b1253dF851D217501Fa66fa5f4a8cC9025Eac\"\n",
    "private_key = \"0c1aa4f476b3a2768675e3d1190ba26df71fd2e3044e01712db59538cdb82760\""
   ]
  },
  {
   "cell_type": "code",
   "execution_count": 45,
   "metadata": {},
   "outputs": [],
   "source": [
    "# initialize contract\n",
    "EnergyTrading = w3.eth.contract(abi=abi, bytecode=bytecode)\n",
    "nonce = w3.eth.get_transaction_count(owner_address)"
   ]
  },
  {
   "cell_type": "code",
   "execution_count": 46,
   "metadata": {},
   "outputs": [],
   "source": [
    "# set up transaction from constructor which executes when firstly\n",
    "transaction = EnergyTrading.constructor().build_transaction(\n",
    "    {\n",
    "        \"gasPrice\": w3.eth.gas_price,\n",
    "        \"chainId\": chain_id, \n",
    "        \"from\": owner_address, \n",
    "        \"nonce\": nonce\n",
    "    }\n",
    ")\n",
    "\n",
    "signed_tx = w3.eth.account.sign_transaction(transaction, private_key=private_key)\n",
    "tx_hash = w3.eth.send_raw_transaction(signed_tx.raw_transaction)\n",
    "tx_receipt = w3.eth.wait_for_transaction_receipt(tx_hash)"
   ]
  },
  {
   "cell_type": "code",
   "execution_count": 47,
   "metadata": {},
   "outputs": [],
   "source": [
    "with open(\"contract_abi.json\", \"w\") as file:\n",
    "    json.dump(abi, file)"
   ]
  },
  {
   "cell_type": "code",
   "execution_count": null,
   "metadata": {},
   "outputs": [],
   "source": [
    "energy_trading_sol = w3.eth.contract(abi=abi, address=tx_receipt.contractAddress)\n",
    "\n",
    "payer_address = \"0xA7e37689F9C63dB93291EE13FD7666E2C8Cc0B49\"\n",
    "private_key = \"8417779402eae454d51d3633bf9f649a0d9f64f553400f61680e5900efcbc8fb\"\n",
    "nonce = w3.eth.get_transaction_count(payer_address)\n",
    "value = 4\n",
    "\n",
    "call_fun = energy_trading_sol.functions.registerUser().build_transaction(\n",
    "    {\n",
    "        \"gasPrice\": w3.eth.gas_price,\n",
    "        \"chainId\": chain_id, \n",
    "        \"from\": payer_address,\n",
    "        \"nonce\": nonce\n",
    "    }\n",
    ")\n",
    "\n",
    "sign_call_fun = w3.eth.account.sign_transaction(call_fun, private_key=private_key)\n",
    "tx_call_fun_hash = w3.eth.send_raw_transaction(sign_call_fun.raw_transaction)\n",
    "tx_call_fun_receipt = w3.eth.wait_for_transaction_receipt(tx_call_fun_hash)"
   ]
  },
  {
   "cell_type": "code",
   "execution_count": 48,
   "metadata": {},
   "outputs": [],
   "source": [
    "# dump contract address to file\n",
    "with open(\"contract_address.txt\", \"w\") as file:\n",
    "    file.write(tx_receipt.contractAddress)\n",
    "\n",
    "# dump contract abi to file\n",
    "with open(\"contract_abi.json\", \"w\") as file:\n",
    "    json.dump(abi, file)"
   ]
  },
  {
   "cell_type": "code",
   "execution_count": null,
   "metadata": {},
   "outputs": [],
   "source": [
    "energy_trading_sol = w3.eth.contract(abi=abi, address=tx_receipt.contractAddress)\n",
    "\n",
    "payer_address = \"0xA7e37689F9C63dB93291EE13FD7666E2C8Cc0B49\"\n",
    "private_key = \"8417779402eae454d51d3633bf9f649a0d9f64f553400f61680e5900efcbc8fb\"\n",
    "nonce = w3.eth.get_transaction_count(payer_address)\n",
    "value = 4\n",
    "\n",
    "call_fun = energy_trading_sol.functions.registerUser().build_transaction(\n",
    "    {\n",
    "        \"gasPrice\": w3.eth.gas_price,\n",
    "        \"chainId\": chain_id, \n",
    "        \"from\": payer_address,\n",
    "        \"nonce\": nonce\n",
    "    }\n",
    ")\n",
    "\n",
    "sign_call_fun = w3.eth.account.sign_transaction(call_fun, private_key=private_key)\n",
    "tx_call_fun_hash = w3.eth.send_raw_transaction(sign_call_fun.raw_transaction)\n",
    "tx_call_fun_receipt = w3.eth.wait_for_transaction_receipt(tx_call_fun_hash)"
   ]
  },
  {
   "cell_type": "code",
   "execution_count": null,
   "metadata": {},
   "outputs": [],
   "source": [
    "w3.eth.get_balance(tx_receipt.contractAddress) / 1e18"
   ]
  }
 ],
 "metadata": {
  "kernelspec": {
   "display_name": "bc_env",
   "language": "python",
   "name": "python3"
  },
  "language_info": {
   "codemirror_mode": {
    "name": "ipython",
    "version": 3
   },
   "file_extension": ".py",
   "mimetype": "text/x-python",
   "name": "python",
   "nbconvert_exporter": "python",
   "pygments_lexer": "ipython3",
   "version": "3.13.0"
  },
  "orig_nbformat": 4
 },
 "nbformat": 4,
 "nbformat_minor": 2
}
