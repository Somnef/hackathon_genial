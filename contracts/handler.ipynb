{
 "cells": [
  {
   "cell_type": "code",
   "execution_count": 37,
   "metadata": {},
   "outputs": [],
   "source": [
    "from eth_utils import address\n",
    "from web3 import Web3\n",
    "import os\n",
    "from solcx import compile_standard, install_solc\n",
    "import json\n",
    "\n",
    "version = '0.8.0'\n",
    "install_solc(version)\n",
    "\n",
    "smart_contract = \"EnergyTrading.sol\"\n",
    "\n",
    "with open(smart_contract, \"r\") as file:\n",
    "    contract_file = file.read()\n",
    "\n",
    "compiled_sol = compile_standard(\n",
    "    {\n",
    "        \"language\": \"Solidity\",\n",
    "        \"sources\": {\"EnergyTrading.sol\": {\"content\": contract_file}},\n",
    "        \"settings\": {\n",
    "            \"outputSelection\": {\n",
    "                \"*\": {\n",
    "                    \"*\": [\"abi\", \"metadata\", \"evm.bytecode\", \"evm.bytecode.sourceMap\"]\n",
    "                }\n",
    "            }\n",
    "        },\n",
    "    },\n",
    "    solc_version=version,  # type: ignore\n",
    ")\n",
    "\n",
    "with open(\"compiled_code.json\", \"w\") as file:\n",
    "    json.dump(compiled_sol, file)\n",
    "\n",
    "# get bytecode\n",
    "bytecode = compiled_sol[\"contracts\"][smart_contract][\"EnergyTrading\"][\"evm\"][\"bytecode\"][\"object\"]\n",
    "\n",
    "# get abi\n",
    "abi = json.loads(compiled_sol[\"contracts\"][smart_contract][\"EnergyTrading\"][\"metadata\"])[\"output\"][\"abi\"]\n",
    "\n",
    "# set up connection\n",
    "w3 = Web3(Web3.HTTPProvider(\"HTTP://172.21.128.1:7545\"))\n",
    "chain_id = 1337\n",
    "owner_address = \"0x952b1253dF851D217501Fa66fa5f4a8cC9025Eac\"\n",
    "private_key = \"0c1aa4f476b3a2768675e3d1190ba26df71fd2e3044e01712db59538cdb82760\"\n",
    "\n",
    "# initialize contract\n",
    "EnergyTrading = w3.eth.contract(abi=abi, bytecode=bytecode)\n",
    "nonce = w3.eth.get_transaction_count(owner_address)\n",
    "\n",
    "# set up transaction from constructor which executes when firstly\n",
    "transaction = EnergyTrading.constructor().build_transaction(\n",
    "    {\n",
    "        \"gasPrice\": w3.eth.gas_price,\n",
    "        \"chainId\": chain_id, \n",
    "        \"from\": owner_address, \n",
    "        \"nonce\": nonce\n",
    "    }\n",
    ")\n",
    "\n",
    "signed_tx = w3.eth.account.sign_transaction(transaction, private_key=private_key)\n",
    "tx_hash = w3.eth.send_raw_transaction(signed_tx.raw_transaction)\n",
    "tx_receipt = w3.eth.wait_for_transaction_receipt(tx_hash)"
   ]
  },
  {
   "cell_type": "code",
   "execution_count": 38,
   "metadata": {},
   "outputs": [
    {
     "name": "stdout",
     "output_type": "stream",
     "text": [
      "AttributeDict({'transactionHash': HexBytes('0x16132da9c45317627a641dce0dc9ae61a9ac7f7ac86fcce4c06d5641bc9923db'), 'transactionIndex': 0, 'blockHash': HexBytes('0x7a7501c493533f1550b53ffaa2f697be543c975fa807185ad9c37c47bdedda8f'), 'blockNumber': 48, 'from': '0xB28d5f7929AA1F5f6d5811C692d59255ABFdD530', 'to': '0xfD8710ECD82e5dfa6b7CF816BD167B30f30d3286', 'gasUsed': 44415, 'cumulativeGasUsed': 44415, 'contractAddress': None, 'logs': [AttributeDict({'logIndex': 0, 'transactionIndex': 0, 'transactionHash': HexBytes('0x16132da9c45317627a641dce0dc9ae61a9ac7f7ac86fcce4c06d5641bc9923db'), 'blockHash': HexBytes('0x7a7501c493533f1550b53ffaa2f697be543c975fa807185ad9c37c47bdedda8f'), 'blockNumber': 48, 'address': '0xfD8710ECD82e5dfa6b7CF816BD167B30f30d3286', 'data': HexBytes('0x000000000000000000000000b28d5f7929aa1f5f6d5811c692d59255abfdd530'), 'topics': [HexBytes('0x54db7a5cb4735e1aac1f53db512d3390390bb6637bd30ad4bf9fc98667d9b9b9')], 'type': 'mined'})], 'status': 1, 'logsBloom': HexBytes('0x00000000000000000000000000000000000080000000000000000000000000000000000000000000000000000000000000000000000000000000000000004000000000000000000000000000000000000000000000000400000000000000000000000000000000000000000000000000000000000000000000000000000000000000000000000000000000000000000000000020000000000000000000000000000000000000000000000000000000000000000000000000000000004000000000000000000000000000000000000000000000000000000000000000000000000000000000000000000000000000000000000000000000000000000000001000')})\n"
     ]
    }
   ],
   "source": [
    "# REGISTER THE USER\n",
    "\n",
    "energy_trading_sol = w3.eth.contract(abi=abi, address=tx_receipt.contractAddress)\n",
    "\n",
    "payer_address = \"0xB28d5f7929AA1F5f6d5811C692d59255ABFdD530\"\n",
    "private_key = \"90c2213fbee613082e2340ed07de21e526d5b4a9b04dbc236780e799ee6bfa98\"\n",
    "nonce = w3.eth.get_transaction_count(payer_address)\n",
    "value = 4\n",
    "\n",
    "call_fun = energy_trading_sol.functions.registerUser().build_transaction(\n",
    "    {\n",
    "        \"gasPrice\": w3.eth.gas_price,\n",
    "        \"chainId\": chain_id, \n",
    "        \"from\": payer_address,\n",
    "        \"nonce\": nonce\n",
    "    }\n",
    ")\n",
    "\n",
    "sign_call_fun = w3.eth.account.sign_transaction(call_fun, private_key=private_key)\n",
    "tx_call_fun_hash = w3.eth.send_raw_transaction(sign_call_fun.raw_transaction)\n",
    "tx_call_fun_receipt = w3.eth.wait_for_transaction_receipt(tx_call_fun_hash)\n",
    "\n",
    "print(tx_call_fun_receipt)"
   ]
  },
  {
   "cell_type": "code",
   "execution_count": 39,
   "metadata": {},
   "outputs": [],
   "source": [
    "# dump contract address to file\n",
    "with open(\"../backend/utils/contract_address.json\", \"w\") as file:\n",
    "    json.dump({\"contractAddress\": tx_receipt.contractAddress}, file)\n",
    "\n",
    "# dump contract abi to file\n",
    "with open(\"../backend/utils/contract_abi.json\", \"w\") as file:\n",
    "    json.dump(abi, file)"
   ]
  },
  {
   "cell_type": "code",
   "execution_count": 63,
   "metadata": {},
   "outputs": [
    {
     "name": "stdout",
     "output_type": "stream",
     "text": [
      "AttributeDict({'transactionHash': HexBytes('0xcaf584590ec35f03d3fdd2e3e1fec267833138eef1ac8bbf372291c15dc669d3'), 'transactionIndex': 0, 'blockHash': HexBytes('0xe38f39b87717621e7527b11eec2d868c3b3ff046c5be319104342b9cba224164'), 'blockNumber': 57, 'from': '0xB28d5f7929AA1F5f6d5811C692d59255ABFdD530', 'to': '0xfD8710ECD82e5dfa6b7CF816BD167B30f30d3286', 'gasUsed': 158377, 'cumulativeGasUsed': 158377, 'contractAddress': None, 'logs': [AttributeDict({'logIndex': 0, 'transactionIndex': 0, 'transactionHash': HexBytes('0xcaf584590ec35f03d3fdd2e3e1fec267833138eef1ac8bbf372291c15dc669d3'), 'blockHash': HexBytes('0xe38f39b87717621e7527b11eec2d868c3b3ff046c5be319104342b9cba224164'), 'blockNumber': 57, 'address': '0xfD8710ECD82e5dfa6b7CF816BD167B30f30d3286', 'data': HexBytes('0x0000000000000000000000000000000000000000000000000000000000000006000000000000000000000000b28d5f7929aa1f5f6d5811c692d59255abfdd5300000000000000000000000000000000000000000000000000000000000001388000000000000000000000000000000000000000000000000000000000000000e'), 'topics': [HexBytes('0xda3d99b33292474cce9fea011535f71efc401c7bb35e0f270dadfaea925a6ba6')], 'type': 'mined'})], 'status': 1, 'logsBloom': HexBytes('0x00000000000000000000000000000000000080000000000000000000000000000000000000000000000000000000000000000000000000000000000000000000000000000000000000000000000000000000000000000000000000000000000000000000000000000000000000000000000000000000000000000000000000000000000000000000000000000000000000000020000000000000000000020000000000000000000000000000000000000000000000000000000000000000000000000000000000000000000000000008000000000000000000000000000000000000000000000000000000000000000000000000000000000000020000001000')})\n"
     ]
    }
   ],
   "source": [
    "# CREATE OFFER\n",
    "\n",
    "energy_trading_sol = w3.eth.contract(abi=abi, address=tx_receipt.contractAddress)\n",
    "\n",
    "payer_address = \"0xB28d5f7929AA1F5f6d5811C692d59255ABFdD530\"\n",
    "private_key = \"90c2213fbee613082e2340ed07de21e526d5b4a9b04dbc236780e799ee6bfa98\"\n",
    "nonce = w3.eth.get_transaction_count(payer_address)\n",
    "value = 4\n",
    "\n",
    "call_fun = energy_trading_sol.functions.offerEnergy(\n",
    "    5000, 14, 500, 50\n",
    ").build_transaction(\n",
    "    {\n",
    "        \"gasPrice\": w3.eth.gas_price,\n",
    "        \"chainId\": chain_id, \n",
    "        \"from\": payer_address,\n",
    "        \"nonce\": nonce\n",
    "    }\n",
    ")\n",
    "\n",
    "sign_call_fun = w3.eth.account.sign_transaction(call_fun, private_key=private_key)\n",
    "tx_call_fun_hash = w3.eth.send_raw_transaction(sign_call_fun.raw_transaction)\n",
    "tx_call_fun_receipt = w3.eth.wait_for_transaction_receipt(tx_call_fun_hash)\n",
    "\n",
    "print(tx_call_fun_receipt)"
   ]
  },
  {
   "cell_type": "code",
   "execution_count": 64,
   "metadata": {},
   "outputs": [
    {
     "data": {
      "text/plain": [
       "[(0,\n",
       "  '0xB28d5f7929AA1F5f6d5811C692d59255ABFdD530',\n",
       "  5000,\n",
       "  14,\n",
       "  1732197541,\n",
       "  '0x22f5145d4C248227B2FbC5F90315B9aD62dEBCFa',\n",
       "  2000,\n",
       "  False),\n",
       " (1,\n",
       "  '0xB28d5f7929AA1F5f6d5811C692d59255ABFdD530',\n",
       "  5000,\n",
       "  14,\n",
       "  1732197542,\n",
       "  '0x0000000000000000000000000000000000000000',\n",
       "  500,\n",
       "  False),\n",
       " (2,\n",
       "  '0xB28d5f7929AA1F5f6d5811C692d59255ABFdD530',\n",
       "  5000,\n",
       "  14,\n",
       "  1732197543,\n",
       "  '0x0000000000000000000000000000000000000000',\n",
       "  500,\n",
       "  False),\n",
       " (3,\n",
       "  '0xB28d5f7929AA1F5f6d5811C692d59255ABFdD530',\n",
       "  5000,\n",
       "  14,\n",
       "  1732197544,\n",
       "  '0x0000000000000000000000000000000000000000',\n",
       "  500,\n",
       "  False),\n",
       " (4,\n",
       "  '0x22f5145d4C248227B2FbC5F90315B9aD62dEBCFa',\n",
       "  5000,\n",
       "  14,\n",
       "  1732198261,\n",
       "  '0x0000000000000000000000000000000000000000',\n",
       "  500,\n",
       "  False),\n",
       " (5,\n",
       "  '0xB28d5f7929AA1F5f6d5811C692d59255ABFdD530',\n",
       "  5000,\n",
       "  14,\n",
       "  1732198324,\n",
       "  '0x0000000000000000000000000000000000000000',\n",
       "  500,\n",
       "  False)]"
      ]
     },
     "execution_count": 64,
     "metadata": {},
     "output_type": "execute_result"
    }
   ],
   "source": [
    "# GET ACTIVE OFFERS\n",
    "\n",
    "energy_trading_sol = w3.eth.contract(abi=abi, address=tx_receipt.contractAddress)\n",
    "payer_address = \"0xB28d5f7929AA1F5f6d5811C692d59255ABFdD530\"\n",
    "private_key = \"90c2213fbee613082e2340ed07de21e526d5b4a9b04dbc236780e799ee6bfa98\"\n",
    "nonce = w3.eth.get_transaction_count(payer_address)\n",
    "value = 4\n",
    "\n",
    "# Call the function and get the return value\n",
    "active_offers = energy_trading_sol.functions.getActiveOffers().call({\n",
    "    \"from\": payer_address\n",
    "})\n",
    "\n",
    "active_offers"
   ]
  },
  {
   "cell_type": "code",
   "execution_count": 48,
   "metadata": {},
   "outputs": [
    {
     "name": "stdout",
     "output_type": "stream",
     "text": [
      "AttributeDict({'transactionHash': HexBytes('0x1b0b18fba7570ade90fcbbf80f445297d2379085604dda326c92d38f029b2db8'), 'transactionIndex': 0, 'blockHash': HexBytes('0x15d12c4e20ff7853be5348d0154e2c8db23413a8af130758f7001fb7dcb1bc1d'), 'blockNumber': 53, 'from': '0x22f5145d4C248227B2FbC5F90315B9aD62dEBCFa', 'to': '0xfD8710ECD82e5dfa6b7CF816BD167B30f30d3286', 'gasUsed': 44415, 'cumulativeGasUsed': 44415, 'contractAddress': None, 'logs': [AttributeDict({'logIndex': 0, 'transactionIndex': 0, 'transactionHash': HexBytes('0x1b0b18fba7570ade90fcbbf80f445297d2379085604dda326c92d38f029b2db8'), 'blockHash': HexBytes('0x15d12c4e20ff7853be5348d0154e2c8db23413a8af130758f7001fb7dcb1bc1d'), 'blockNumber': 53, 'address': '0xfD8710ECD82e5dfa6b7CF816BD167B30f30d3286', 'data': HexBytes('0x00000000000000000000000022f5145d4c248227b2fbc5f90315b9ad62debcfa'), 'topics': [HexBytes('0x54db7a5cb4735e1aac1f53db512d3390390bb6637bd30ad4bf9fc98667d9b9b9')], 'type': 'mined'})], 'status': 1, 'logsBloom': HexBytes('0x00000000000000000000000000000000000080000000000000000000000000000000000000000000000000000000000000000000000000000000000000004000000000000000000000000000000000000000000000000400000000000000000000000000000000000000000000000000000000000000000000000000000000000000000000000000000000000000000000000020000000000000000000000000000000000000000000000000000000000000000000000000000000004000000000000000000000000000000000000000000000000000000000000000000000000000000000000000000000000000000000000000000000000000000000001000')})\n"
     ]
    }
   ],
   "source": [
    "# REGISTER THE USER\n",
    "\n",
    "energy_trading_sol = w3.eth.contract(abi=abi, address=tx_receipt.contractAddress)\n",
    "\n",
    "payer_address = \"0x22f5145d4C248227B2FbC5F90315B9aD62dEBCFa\"\n",
    "private_key = \"f8615fbd141bf5cc9156f3b6e21f966bbd22cd2d530b069d6033cd929700afe1\"\n",
    "nonce = w3.eth.get_transaction_count(payer_address)\n",
    "value = 4\n",
    "\n",
    "call_fun = energy_trading_sol.functions.registerUser().build_transaction(\n",
    "    {\n",
    "        \"gasPrice\": w3.eth.gas_price,\n",
    "        \"chainId\": chain_id, \n",
    "        \"from\": payer_address,\n",
    "        \"nonce\": nonce\n",
    "    }\n",
    ")\n",
    "\n",
    "sign_call_fun = w3.eth.account.sign_transaction(call_fun, private_key=private_key)\n",
    "tx_call_fun_hash = w3.eth.send_raw_transaction(sign_call_fun.raw_transaction)\n",
    "tx_call_fun_receipt = w3.eth.wait_for_transaction_receipt(tx_call_fun_hash)\n",
    "\n",
    "print(tx_call_fun_receipt)"
   ]
  },
  {
   "cell_type": "code",
   "execution_count": 69,
   "metadata": {},
   "outputs": [
    {
     "name": "stdout",
     "output_type": "stream",
     "text": [
      "AttributeDict({'transactionHash': HexBytes('0xacdddfaaa7acc1c754f44e519af01a031d4151ba53f8780d6cc0a0946d7669c9'), 'transactionIndex': 0, 'blockHash': HexBytes('0xaa6589617a2faa9d96b1686516b86d4abecd0c505856a3c14194b417dec1a40c'), 'blockNumber': 59, 'from': '0x22f5145d4C248227B2FbC5F90315B9aD62dEBCFa', 'to': '0xfD8710ECD82e5dfa6b7CF816BD167B30f30d3286', 'gasUsed': 94702, 'cumulativeGasUsed': 94702, 'contractAddress': None, 'logs': [AttributeDict({'logIndex': 0, 'transactionIndex': 0, 'transactionHash': HexBytes('0xacdddfaaa7acc1c754f44e519af01a031d4151ba53f8780d6cc0a0946d7669c9'), 'blockHash': HexBytes('0xaa6589617a2faa9d96b1686516b86d4abecd0c505856a3c14194b417dec1a40c'), 'blockNumber': 59, 'address': '0xfD8710ECD82e5dfa6b7CF816BD167B30f30d3286', 'data': HexBytes('0x00000000000000000000000022f5145d4c248227b2fbc5f90315b9ad62debcfa0000000000000000000000000000000000000000000000000494654067e10000'), 'topics': [HexBytes('0xdd0b6c6a77960e2066c96171b4d7ac9e8b4c184011f38544afa36a5bb63ec59f')], 'type': 'mined'})], 'status': 1, 'logsBloom': HexBytes('0x00000000000000000000400000000000000080000000000000000000000000000000000000000000000000000000000000000000000000000000000000000000000000000000000000000000000000000000000000000000000000000000000000000000000000000000000000000000000000000000000000000000000000000000000000000000000000002000000000000020000000000000000000000000000000000000000000000000000000000000000000000000000000000000000000000000000000000000000000000000000000000000000000000000000000000000000000000000000000000000000000000000000002000000000000001000')})\n"
     ]
    }
   ],
   "source": [
    "energy_trading_sol = w3.eth.contract(abi=abi, address=tx_receipt.contractAddress)\n",
    "\n",
    "payer_address = \"0x22f5145d4C248227B2FbC5F90315B9aD62dEBCFa\"\n",
    "private_key = \"f8615fbd141bf5cc9156f3b6e21f966bbd22cd2d530b069d6033cd929700afe1\"\n",
    "nonce = w3.eth.get_transaction_count(payer_address)\n",
    "value = 4\n",
    "\n",
    "call_fun = energy_trading_sol.functions.placeBid(\n",
    "    0\n",
    ").build_transaction(\n",
    "    {\n",
    "        \"value\": w3.to_wei(\"0.33\", \"ether\"),\n",
    "        \"gasPrice\": w3.eth.gas_price,\n",
    "        \"chainId\": chain_id, \n",
    "        \"from\": payer_address,\n",
    "        \"nonce\": nonce\n",
    "    }\n",
    ")\n",
    "\n",
    "sign_call_fun = w3.eth.account.sign_transaction(call_fun, private_key=private_key)\n",
    "tx_call_fun_hash = w3.eth.send_raw_transaction(sign_call_fun.raw_transaction)\n",
    "tx_call_fun_receipt = w3.eth.wait_for_transaction_receipt(tx_call_fun_hash)\n",
    "\n",
    "print(tx_call_fun_receipt)"
   ]
  },
  {
   "cell_type": "code",
   "execution_count": 55,
   "metadata": {},
   "outputs": [
    {
     "data": {
      "text/plain": [
       "[('0x22f5145d4C248227B2FbC5F90315B9aD62dEBCFa', 1000, 0),\n",
       " ('0x22f5145d4C248227B2FbC5F90315B9aD62dEBCFa', 2000, 0)]"
      ]
     },
     "execution_count": 55,
     "metadata": {},
     "output_type": "execute_result"
    }
   ],
   "source": [
    "# GET ACTIVE OFFERS\n",
    "\n",
    "energy_trading_sol = w3.eth.contract(abi=abi, address=tx_receipt.contractAddress)\n",
    "\n",
    "payer_address = \"0xB28d5f7929AA1F5f6d5811C692d59255ABFdD530\"\n",
    "\n",
    "# Call the function and get the return value\n",
    "active_offers = energy_trading_sol.functions.getBidsByOffer(0).call({\n",
    "    \"from\": payer_address\n",
    "})\n",
    "\n",
    "active_offers"
   ]
  },
  {
   "cell_type": "code",
   "execution_count": 65,
   "metadata": {},
   "outputs": [
    {
     "data": {
      "text/plain": [
       "[(0,\n",
       "  '0xB28d5f7929AA1F5f6d5811C692d59255ABFdD530',\n",
       "  5000,\n",
       "  14,\n",
       "  1732197541,\n",
       "  '0x22f5145d4C248227B2FbC5F90315B9aD62dEBCFa',\n",
       "  2000,\n",
       "  False),\n",
       " (1,\n",
       "  '0xB28d5f7929AA1F5f6d5811C692d59255ABFdD530',\n",
       "  5000,\n",
       "  14,\n",
       "  1732197542,\n",
       "  '0x0000000000000000000000000000000000000000',\n",
       "  500,\n",
       "  False),\n",
       " (2,\n",
       "  '0xB28d5f7929AA1F5f6d5811C692d59255ABFdD530',\n",
       "  5000,\n",
       "  14,\n",
       "  1732197543,\n",
       "  '0x0000000000000000000000000000000000000000',\n",
       "  500,\n",
       "  False),\n",
       " (3,\n",
       "  '0xB28d5f7929AA1F5f6d5811C692d59255ABFdD530',\n",
       "  5000,\n",
       "  14,\n",
       "  1732197544,\n",
       "  '0x0000000000000000000000000000000000000000',\n",
       "  500,\n",
       "  False),\n",
       " (5,\n",
       "  '0xB28d5f7929AA1F5f6d5811C692d59255ABFdD530',\n",
       "  5000,\n",
       "  14,\n",
       "  1732198324,\n",
       "  '0x0000000000000000000000000000000000000000',\n",
       "  500,\n",
       "  False)]"
      ]
     },
     "execution_count": 65,
     "metadata": {},
     "output_type": "execute_result"
    }
   ],
   "source": [
    "# GET ACTIVE OFFERS\n",
    "\n",
    "energy_trading_sol = w3.eth.contract(abi=abi, address=tx_receipt.contractAddress)\n",
    "\n",
    "payer_address = \"0xB28d5f7929AA1F5f6d5811C692d59255ABFdD530\"\n",
    "\n",
    "# Call the function and get the return value\n",
    "active_offers = energy_trading_sol.functions.getOffersByUser(payer_address).call({\n",
    "    \"from\": payer_address\n",
    "})\n",
    "\n",
    "active_offers"
   ]
  },
  {
   "cell_type": "code",
   "execution_count": 70,
   "metadata": {},
   "outputs": [
    {
     "data": {
      "text/plain": [
       "330000000000000000"
      ]
     },
     "execution_count": 70,
     "metadata": {},
     "output_type": "execute_result"
    }
   ],
   "source": [
    "# get contract balance\n",
    "\n",
    "w3.eth.get_balance(tx_receipt.contractAddress)"
   ]
  }
 ],
 "metadata": {
  "kernelspec": {
   "display_name": "bc_env",
   "language": "python",
   "name": "python3"
  },
  "language_info": {
   "codemirror_mode": {
    "name": "ipython",
    "version": 3
   },
   "file_extension": ".py",
   "mimetype": "text/x-python",
   "name": "python",
   "nbconvert_exporter": "python",
   "pygments_lexer": "ipython3",
   "version": "3.13.0"
  },
  "orig_nbformat": 4
 },
 "nbformat": 4,
 "nbformat_minor": 2
}
